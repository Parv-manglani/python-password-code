{
  "nbformat": 4,
  "nbformat_minor": 0,
  "metadata": {
    "colab": {
      "provenance": []
    },
    "kernelspec": {
      "name": "python3",
      "display_name": "Python 3"
    },
    "language_info": {
      "name": "python"
    }
  },
  "cells": [
    {
      "cell_type": "code",
      "execution_count": 12,
      "metadata": {
        "colab": {
          "base_uri": "https://localhost:8080/"
        },
        "id": "MHhQ5XJX5jTT",
        "outputId": "75947a80-f213-4707-ee42-d8030f4b3c34"
      },
      "outputs": [
        {
          "output_type": "stream",
          "name": "stdout",
          "text": [
            "enter password: KHtcythgc123@#$\n",
            "yes\n"
          ]
        }
      ],
      "source": [
        "a,b,c,d,e,f=0,0,0,0,0,0\n",
        "x=input(\"enter password: \")\n",
        "\n",
        "if len(x)>=10:\n",
        "  a+=1\n",
        "\n",
        "for i in range(len(x)):\n",
        "  if x[i]>=\"A\" and x[i]<=\"Z\":\n",
        "     b+=1\n",
        "if b<2:\n",
        "  print(\"The password must contain atleast 2 capital letters.\")\n",
        "\n",
        "for i in range(len(x)):\n",
        "  if x[i]>=\"a\" and x[i]<=\"z\":\n",
        "    c+=1\n",
        "if c<2:\n",
        "  print(\"The password must contain atleast 2 small letters.\")\n",
        "\n",
        "for i in range(len(x)):\n",
        "  if (x[i]>=\"1\" and x[i]<=\"9\") or x[i]==0 :\n",
        "    d+=1\n",
        "if d<2:\n",
        "  print(\"The password must contain atleast 2 digits.\")\n",
        "for i in range(len(x)):\n",
        "  if x[i]==\"@\" or x[i]==\"#\" or x[i]==\"$\" or x[i]==\"%\" or x[i]==\"&\" or x[i]==\"*\" or x[i]==\"!\":\n",
        "    e+=1\n",
        "if e<2:\n",
        "  print(\"The password must contain atleast 2 special characters.\")\n",
        "\n",
        "\n",
        "for i in range(len(x)-3):\n",
        "  if x[i]==x[i+1]==x[i+2]==x[i+3]:\n",
        "    f+=1\n",
        "if f!=0:\n",
        "  print(\"The password should not contain more than 3 characters consecutively.\")\n",
        "if a!=0 and b>=2 and c>=2 and d>=2 and e>=2 and f==0 :\n",
        "  print(\"password set successfully.\")"
      ]
    },
    {
      "cell_type": "code",
      "source": [
        "a,b,c,d,e,f=0,0,0,0,0,0\n",
        "x=input(\"enter password: \")\n",
        "\n",
        "if len(x)>=10:\n",
        "  a+=1\n",
        "\n",
        "for i in range(len(x)):\n",
        "  if x[i]>=\"A\" and x[i]<=\"Z\":\n",
        "     b+=1\n",
        "if b<2:\n",
        "  print(\"The password must contain atleast 2 capital letters.\")\n",
        "\n",
        "for i in range(len(x)):\n",
        "  if x[i]>=\"a\" and x[i]<=\"z\":\n",
        "    c+=1\n",
        "if c<2:\n",
        "  print(\"The password must contain atleast 2 small letters.\")\n",
        "\n",
        "for i in range(len(x)):\n",
        "  if (x[i]>=\"1\" and x[i]<=\"9\") or x[i]==0 :\n",
        "    d+=1\n",
        "if d<2:\n",
        "  print(\"The password must contain atleast 2 digits.\")\n",
        "for i in range(len(x)):\n",
        "  if x[i]==\"@\" or x[i]==\"#\" or x[i]==\"$\" or x[i]==\"%\" or x[i]==\"&\" or x[i]==\"*\" or x[i]==\"!\":\n",
        "    e+=1\n",
        "if e<2:\n",
        "  print(\"The password must contain atleast 2 special characters.\")\n",
        "\n",
        "\n",
        "for i in range(len(x)-3):\n",
        "  if x[i]==x[i+1]==x[i+2]==x[i+3]:\n",
        "    f+=1\n",
        "if f!=0:\n",
        "  print(\"The password should not contain more than 3 characters consecutively.\")\n",
        "if a!=0 and b>=2 and c>=2 and d>=2 and e>=2 and f==0 :\n",
        "  print(\"password set successfully.\")"
      ],
      "metadata": {
        "colab": {
          "base_uri": "https://localhost:8080/",
          "height": 356
        },
        "id": "-ZW7vvoevkQT",
        "outputId": "82b72403-b239-4709-e38c-17173ed27947"
      },
      "execution_count": 13,
      "outputs": [
        {
          "output_type": "error",
          "ename": "KeyboardInterrupt",
          "evalue": "Interrupted by user",
          "traceback": [
            "\u001b[0;31m---------------------------------------------------------------------------\u001b[0m",
            "\u001b[0;31mKeyboardInterrupt\u001b[0m                         Traceback (most recent call last)",
            "\u001b[0;32m<ipython-input-13-bbd5f012f25c>\u001b[0m in \u001b[0;36m<cell line: 2>\u001b[0;34m()\u001b[0m\n\u001b[1;32m      1\u001b[0m \u001b[0ma\u001b[0m\u001b[0;34m,\u001b[0m\u001b[0mb\u001b[0m\u001b[0;34m,\u001b[0m\u001b[0mc\u001b[0m\u001b[0;34m,\u001b[0m\u001b[0md\u001b[0m\u001b[0;34m,\u001b[0m\u001b[0me\u001b[0m\u001b[0;34m,\u001b[0m\u001b[0mf\u001b[0m\u001b[0;34m=\u001b[0m\u001b[0;36m0\u001b[0m\u001b[0;34m,\u001b[0m\u001b[0;36m0\u001b[0m\u001b[0;34m,\u001b[0m\u001b[0;36m0\u001b[0m\u001b[0;34m,\u001b[0m\u001b[0;36m0\u001b[0m\u001b[0;34m,\u001b[0m\u001b[0;36m0\u001b[0m\u001b[0;34m,\u001b[0m\u001b[0;36m0\u001b[0m\u001b[0;34m\u001b[0m\u001b[0;34m\u001b[0m\u001b[0m\n\u001b[0;32m----> 2\u001b[0;31m \u001b[0mx\u001b[0m\u001b[0;34m=\u001b[0m\u001b[0minput\u001b[0m\u001b[0;34m(\u001b[0m\u001b[0;34m\"enter password: \"\u001b[0m\u001b[0;34m)\u001b[0m\u001b[0;34m\u001b[0m\u001b[0;34m\u001b[0m\u001b[0m\n\u001b[0m\u001b[1;32m      3\u001b[0m \u001b[0;34m\u001b[0m\u001b[0m\n\u001b[1;32m      4\u001b[0m \u001b[0;32mif\u001b[0m \u001b[0mlen\u001b[0m\u001b[0;34m(\u001b[0m\u001b[0mx\u001b[0m\u001b[0;34m)\u001b[0m\u001b[0;34m>=\u001b[0m\u001b[0;36m10\u001b[0m\u001b[0;34m:\u001b[0m\u001b[0;34m\u001b[0m\u001b[0;34m\u001b[0m\u001b[0m\n\u001b[1;32m      5\u001b[0m   \u001b[0ma\u001b[0m\u001b[0;34m+=\u001b[0m\u001b[0;36m1\u001b[0m\u001b[0;34m\u001b[0m\u001b[0;34m\u001b[0m\u001b[0m\n",
            "\u001b[0;32m/usr/local/lib/python3.10/dist-packages/ipykernel/kernelbase.py\u001b[0m in \u001b[0;36mraw_input\u001b[0;34m(self, prompt)\u001b[0m\n\u001b[1;32m    849\u001b[0m                 \u001b[0;34m\"raw_input was called, but this frontend does not support input requests.\"\u001b[0m\u001b[0;34m\u001b[0m\u001b[0;34m\u001b[0m\u001b[0m\n\u001b[1;32m    850\u001b[0m             )\n\u001b[0;32m--> 851\u001b[0;31m         return self._input_request(str(prompt),\n\u001b[0m\u001b[1;32m    852\u001b[0m             \u001b[0mself\u001b[0m\u001b[0;34m.\u001b[0m\u001b[0m_parent_ident\u001b[0m\u001b[0;34m,\u001b[0m\u001b[0;34m\u001b[0m\u001b[0;34m\u001b[0m\u001b[0m\n\u001b[1;32m    853\u001b[0m             \u001b[0mself\u001b[0m\u001b[0;34m.\u001b[0m\u001b[0m_parent_header\u001b[0m\u001b[0;34m,\u001b[0m\u001b[0;34m\u001b[0m\u001b[0;34m\u001b[0m\u001b[0m\n",
            "\u001b[0;32m/usr/local/lib/python3.10/dist-packages/ipykernel/kernelbase.py\u001b[0m in \u001b[0;36m_input_request\u001b[0;34m(self, prompt, ident, parent, password)\u001b[0m\n\u001b[1;32m    893\u001b[0m             \u001b[0;32mexcept\u001b[0m \u001b[0mKeyboardInterrupt\u001b[0m\u001b[0;34m:\u001b[0m\u001b[0;34m\u001b[0m\u001b[0;34m\u001b[0m\u001b[0m\n\u001b[1;32m    894\u001b[0m                 \u001b[0;31m# re-raise KeyboardInterrupt, to truncate traceback\u001b[0m\u001b[0;34m\u001b[0m\u001b[0;34m\u001b[0m\u001b[0m\n\u001b[0;32m--> 895\u001b[0;31m                 \u001b[0;32mraise\u001b[0m \u001b[0mKeyboardInterrupt\u001b[0m\u001b[0;34m(\u001b[0m\u001b[0;34m\"Interrupted by user\"\u001b[0m\u001b[0;34m)\u001b[0m \u001b[0;32mfrom\u001b[0m \u001b[0;32mNone\u001b[0m\u001b[0;34m\u001b[0m\u001b[0;34m\u001b[0m\u001b[0m\n\u001b[0m\u001b[1;32m    896\u001b[0m             \u001b[0;32mexcept\u001b[0m \u001b[0mException\u001b[0m \u001b[0;32mas\u001b[0m \u001b[0me\u001b[0m\u001b[0;34m:\u001b[0m\u001b[0;34m\u001b[0m\u001b[0;34m\u001b[0m\u001b[0m\n\u001b[1;32m    897\u001b[0m                 \u001b[0mself\u001b[0m\u001b[0;34m.\u001b[0m\u001b[0mlog\u001b[0m\u001b[0;34m.\u001b[0m\u001b[0mwarning\u001b[0m\u001b[0;34m(\u001b[0m\u001b[0;34m\"Invalid Message:\"\u001b[0m\u001b[0;34m,\u001b[0m \u001b[0mexc_info\u001b[0m\u001b[0;34m=\u001b[0m\u001b[0;32mTrue\u001b[0m\u001b[0;34m)\u001b[0m\u001b[0;34m\u001b[0m\u001b[0;34m\u001b[0m\u001b[0m\n",
            "\u001b[0;31mKeyboardInterrupt\u001b[0m: Interrupted by user"
          ]
        }
      ]
    },
    {
      "cell_type": "code",
      "source": [
        "def check():\n",
        "  a,b,c,d,e,f=0,0,0,0,0,0\n",
        "  x=input(\"enter password: \")\n",
        "\n",
        "  if len(x)>=10:\n",
        "    a+=1\n",
        "\n",
        "  for i in range(len(x)):\n",
        "    if x[i]>=\"A\" and x[i]<=\"Z\":\n",
        "       b+=1\n",
        "  if b<2:\n",
        "    print(\"The password must contain atleast 2 capital letters.\")\n",
        "\n",
        "  for i in range(len(x)):\n",
        "    if x[i]>=\"a\" and x[i]<=\"z\":\n",
        "      c+=1\n",
        "  if c<2:\n",
        "    print(\"The password must contain atleast 2 small letters.\")\n",
        "\n",
        "  for i in range(len(x)):\n",
        "    if (x[i]>=\"1\" and x[i]<=\"9\") or x[i]==0 :\n",
        "      d+=1\n",
        "  if d<2:\n",
        "    print(\"The password must contain atleast 2 digits.\")\n",
        "  for i in range(len(x)):\n",
        "    if x[i]==\"@\" or x[i]==\"#\" or x[i]==\"$\" or x[i]==\"%\" or x[i]==\"&\" or x[i]==\"*\" or x[i]==\"!\":\n",
        "      e+=1\n",
        "  if e<2:\n",
        "    print(\"The password must contain atleast 2 special characters.\")\n",
        "\n",
        "\n",
        "  for i in range(len(x)-3):\n",
        "    if x[i]==x[i+1]==x[i+2]==x[i+3]:\n",
        "      f+=1\n",
        "  if f!=0:\n",
        "    print(\"The password should not contain more than 3 characters consecutively.\")\n",
        "\n",
        "  if x==pass1 or x==pass2 or x==pass3:\n",
        "    print(\"The password is not same as last 3 passwords.\")\n",
        "\n",
        "  if a!=0 and b>=2 and c>=2 and d>=2 and e>=2 and f==0 and x!=pass1 and x!=pass2 and x!=pass3 :\n",
        "    print(\"password set successfully.\")\n",
        "  else:\n",
        "    check()\n",
        "\n",
        "username=input(\"enter username: \")\n",
        "pass1=input(\"previous password1: \")\n",
        "pass2=input(\"previous password2: \")\n",
        "pass3=input(\"previous password3: \")\n",
        "check()\n"
      ],
      "metadata": {
        "colab": {
          "base_uri": "https://localhost:8080/"
        },
        "id": "g6dnJnfyGnn-",
        "outputId": "27920153-2e63-4c3d-9b8c-ee3163cc33e8"
      },
      "execution_count": 17,
      "outputs": [
        {
          "output_type": "stream",
          "name": "stdout",
          "text": [
            "enter username: parvamangfkai\n",
            "previous password1: PParv@@12345\n",
            "previous password2: PArrvv2233@#$\n",
            "previous password3: PARvvv123445#$\n",
            "enter password: PARvvv123445#$\n",
            "The password is not same as last 3 passwords.\n",
            "enter password: PArrvv2233@#$\n",
            "The password is not same as last 3 passwords.\n",
            "enter password: PParv@@12345\n",
            "The password is not same as last 3 passwords.\n",
            "enter password: Parv@#23453\n",
            "The password must contain atleast 2 capital letters.\n",
            "enter password: PPARV@34###$\n",
            "The password must contain atleast 2 small letters.\n",
            "enter password: PPaarv@2345\n",
            "The password must contain atleast 2 special characters.\n",
            "enter password: Pa@#$%^%$234\n",
            "The password must contain atleast 2 capital letters.\n",
            "The password must contain atleast 2 small letters.\n",
            "enter password: PParv@#$%$#2\n",
            "The password must contain atleast 2 digits.\n",
            "enter password: Parv@#$%P@#$02\n",
            "The password must contain atleast 2 digits.\n",
            "enter password: PParv@#2345\n",
            "password set successfully.\n"
          ]
        }
      ]
    },
    {
      "cell_type": "code",
      "source": [],
      "metadata": {
        "id": "Ja8glTBVN_MB"
      },
      "execution_count": null,
      "outputs": []
    }
  ]
}